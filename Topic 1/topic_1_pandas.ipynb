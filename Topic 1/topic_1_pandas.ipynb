{
 "cells": [
  {
   "cell_type": "code",
   "execution_count": null,
   "metadata": {},
   "outputs": [],
   "source": []
  }
 ],
 "metadata": {
  "kernelspec": {
   "display_name": "Python 3.9.6 64-bit",
   "language": "python",
   "name": "python3"
  },
  "language_info": {
   "name": "python",
   "version": "3.9.6"
  },
  "orig_nbformat": 4,
  "vscode": {
   "interpreter": {
    "hash": "a01c012a7fc3e1d7cac2d9592832f5adda0392881bd937a4a8eb7b3873127a0d"
   }
  }
 },
 "nbformat": 4,
 "nbformat_minor": 2
}
